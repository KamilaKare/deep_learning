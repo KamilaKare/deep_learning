{
 "cells": [
  {
   "cell_type": "code",
   "execution_count": 1,
   "metadata": {},
   "outputs": [
    {
     "name": "stderr",
     "output_type": "stream",
     "text": [
      "C:\\ProgramData\\Anaconda3\\lib\\site-packages\\sklearn\\cross_validation.py:41: DeprecationWarning: This module was deprecated in version 0.18 in favor of the model_selection module into which all the refactored classes and functions are moved. Also note that the interface of the new CV iterators are different from that of this module. This module will be removed in 0.20.\n",
      "  \"This module will be removed in 0.20.\", DeprecationWarning)\n",
      "C:\\ProgramData\\Anaconda3\\lib\\site-packages\\sklearn\\ensemble\\weight_boosting.py:29: DeprecationWarning: numpy.core.umath_tests is an internal NumPy module and should not be imported. It will be removed in a future NumPy release.\n",
      "  from numpy.core.umath_tests import inner1d\n"
     ]
    }
   ],
   "source": [
    "import pandas as pd\n",
    "from sklearn.utils import resample\n",
    "from sklearn.cross_validation import train_test_split\n",
    "from sklearn.linear_model import LogisticRegression\n",
    "from sklearn.metrics import f1_score\n",
    "from sklearn.naive_bayes import GaussianNB\n",
    "from sklearn import svm\n",
    "from sklearn.svm import LinearSVC\n",
    "from sklearn.ensemble import RandomForestClassifier\n",
    "import keras\n",
    "from keras.models import Sequential\n",
    "from keras.layers import Dense, Flatten\n",
    "from keras.optimizers import SGD\n",
    "from keras.layers import Dropout, BatchNormalization\n",
    "from keras import backend as K\n",
    "from keras.utils import to_categorical \n",
    "import xgboost as xgb\n",
    "from sklearn.metrics import confusion_matrix\n",
    "from sklearn.ensemble import IsolationForest\n",
    "import numpy as np\n",
    "import matplotlib.pyplot as plt\n",
    "import seaborn as sns\n",
    "import matplotlib\n",
    "from sklearn.mixture import GaussianMixture"
   ]
  },
  {
   "cell_type": "code",
   "execution_count": 2,
   "metadata": {},
   "outputs": [],
   "source": [
    "0#\n",
    "df=pd.read_csv('C:/Users/Admin/Desktop/AI&DS/train_data.csv',sep=',')\n"
   ]
  },
  {
   "cell_type": "code",
   "execution_count": 5,
   "metadata": {},
   "outputs": [
    {
     "data": {
      "text/plain": [
       "(227845, 31)"
      ]
     },
     "execution_count": 5,
     "metadata": {},
     "output_type": "execute_result"
    }
   ],
   "source": [
    "df.shape"
   ]
  },
  {
   "cell_type": "code",
   "execution_count": 36,
   "metadata": {},
   "outputs": [
    {
     "data": {
      "text/html": [
       "<div>\n",
       "<style scoped>\n",
       "    .dataframe tbody tr th:only-of-type {\n",
       "        vertical-align: middle;\n",
       "    }\n",
       "\n",
       "    .dataframe tbody tr th {\n",
       "        vertical-align: top;\n",
       "    }\n",
       "\n",
       "    .dataframe thead th {\n",
       "        text-align: right;\n",
       "    }\n",
       "</style>\n",
       "<table border=\"1\" class=\"dataframe\">\n",
       "  <thead>\n",
       "    <tr style=\"text-align: right;\">\n",
       "      <th></th>\n",
       "      <th>Time</th>\n",
       "      <th>V1</th>\n",
       "      <th>V2</th>\n",
       "      <th>V3</th>\n",
       "      <th>V4</th>\n",
       "      <th>V5</th>\n",
       "      <th>V6</th>\n",
       "      <th>V7</th>\n",
       "      <th>V8</th>\n",
       "      <th>V9</th>\n",
       "      <th>...</th>\n",
       "      <th>V21</th>\n",
       "      <th>V22</th>\n",
       "      <th>V23</th>\n",
       "      <th>V24</th>\n",
       "      <th>V25</th>\n",
       "      <th>V26</th>\n",
       "      <th>V27</th>\n",
       "      <th>V28</th>\n",
       "      <th>Amount</th>\n",
       "      <th>Class</th>\n",
       "    </tr>\n",
       "  </thead>\n",
       "  <tbody>\n",
       "    <tr>\n",
       "      <th>0</th>\n",
       "      <td>38355.0</td>\n",
       "      <td>1.043949</td>\n",
       "      <td>0.318555</td>\n",
       "      <td>1.045810</td>\n",
       "      <td>2.805989</td>\n",
       "      <td>-0.561113</td>\n",
       "      <td>-0.367956</td>\n",
       "      <td>0.032736</td>\n",
       "      <td>-0.042333</td>\n",
       "      <td>-0.322674</td>\n",
       "      <td>...</td>\n",
       "      <td>-0.240105</td>\n",
       "      <td>-0.680315</td>\n",
       "      <td>0.085328</td>\n",
       "      <td>0.684812</td>\n",
       "      <td>0.318620</td>\n",
       "      <td>-0.204963</td>\n",
       "      <td>0.001662</td>\n",
       "      <td>0.037894</td>\n",
       "      <td>49.67</td>\n",
       "      <td>0</td>\n",
       "    </tr>\n",
       "    <tr>\n",
       "      <th>1</th>\n",
       "      <td>22555.0</td>\n",
       "      <td>-1.665159</td>\n",
       "      <td>0.808440</td>\n",
       "      <td>1.805627</td>\n",
       "      <td>1.903416</td>\n",
       "      <td>-0.821627</td>\n",
       "      <td>0.934790</td>\n",
       "      <td>-0.824802</td>\n",
       "      <td>0.975890</td>\n",
       "      <td>1.747469</td>\n",
       "      <td>...</td>\n",
       "      <td>-0.335332</td>\n",
       "      <td>-0.510994</td>\n",
       "      <td>0.035839</td>\n",
       "      <td>0.147565</td>\n",
       "      <td>-0.529358</td>\n",
       "      <td>-0.566950</td>\n",
       "      <td>-0.595998</td>\n",
       "      <td>-0.220086</td>\n",
       "      <td>16.94</td>\n",
       "      <td>0</td>\n",
       "    </tr>\n",
       "    <tr>\n",
       "      <th>2</th>\n",
       "      <td>2431.0</td>\n",
       "      <td>-0.324096</td>\n",
       "      <td>0.601836</td>\n",
       "      <td>0.865329</td>\n",
       "      <td>-2.138000</td>\n",
       "      <td>0.294663</td>\n",
       "      <td>-1.251553</td>\n",
       "      <td>1.072114</td>\n",
       "      <td>-0.334896</td>\n",
       "      <td>1.071268</td>\n",
       "      <td>...</td>\n",
       "      <td>0.012220</td>\n",
       "      <td>0.352856</td>\n",
       "      <td>-0.341505</td>\n",
       "      <td>-0.145791</td>\n",
       "      <td>0.094194</td>\n",
       "      <td>-0.804026</td>\n",
       "      <td>0.229428</td>\n",
       "      <td>-0.021623</td>\n",
       "      <td>1.00</td>\n",
       "      <td>0</td>\n",
       "    </tr>\n",
       "    <tr>\n",
       "      <th>3</th>\n",
       "      <td>86773.0</td>\n",
       "      <td>-0.258270</td>\n",
       "      <td>1.217501</td>\n",
       "      <td>-0.585348</td>\n",
       "      <td>-0.875347</td>\n",
       "      <td>1.222481</td>\n",
       "      <td>-0.311027</td>\n",
       "      <td>1.073860</td>\n",
       "      <td>-0.161408</td>\n",
       "      <td>0.200665</td>\n",
       "      <td>...</td>\n",
       "      <td>-0.424626</td>\n",
       "      <td>-0.781158</td>\n",
       "      <td>0.019316</td>\n",
       "      <td>0.178614</td>\n",
       "      <td>-0.315616</td>\n",
       "      <td>0.096665</td>\n",
       "      <td>0.269740</td>\n",
       "      <td>-0.020635</td>\n",
       "      <td>10.78</td>\n",
       "      <td>0</td>\n",
       "    </tr>\n",
       "    <tr>\n",
       "      <th>4</th>\n",
       "      <td>127202.0</td>\n",
       "      <td>2.142162</td>\n",
       "      <td>-0.494988</td>\n",
       "      <td>-1.936511</td>\n",
       "      <td>-0.818288</td>\n",
       "      <td>-0.025213</td>\n",
       "      <td>-1.027245</td>\n",
       "      <td>-0.151627</td>\n",
       "      <td>-0.305750</td>\n",
       "      <td>-0.869482</td>\n",
       "      <td>...</td>\n",
       "      <td>0.010115</td>\n",
       "      <td>0.021722</td>\n",
       "      <td>0.079463</td>\n",
       "      <td>-0.480899</td>\n",
       "      <td>0.023846</td>\n",
       "      <td>-0.279076</td>\n",
       "      <td>-0.030121</td>\n",
       "      <td>-0.043888</td>\n",
       "      <td>39.96</td>\n",
       "      <td>0</td>\n",
       "    </tr>\n",
       "  </tbody>\n",
       "</table>\n",
       "<p>5 rows × 31 columns</p>\n",
       "</div>"
      ],
      "text/plain": [
       "       Time        V1        V2        V3        V4        V5        V6  \\\n",
       "0   38355.0  1.043949  0.318555  1.045810  2.805989 -0.561113 -0.367956   \n",
       "1   22555.0 -1.665159  0.808440  1.805627  1.903416 -0.821627  0.934790   \n",
       "2    2431.0 -0.324096  0.601836  0.865329 -2.138000  0.294663 -1.251553   \n",
       "3   86773.0 -0.258270  1.217501 -0.585348 -0.875347  1.222481 -0.311027   \n",
       "4  127202.0  2.142162 -0.494988 -1.936511 -0.818288 -0.025213 -1.027245   \n",
       "\n",
       "         V7        V8        V9  ...         V21       V22       V23  \\\n",
       "0  0.032736 -0.042333 -0.322674  ...   -0.240105 -0.680315  0.085328   \n",
       "1 -0.824802  0.975890  1.747469  ...   -0.335332 -0.510994  0.035839   \n",
       "2  1.072114 -0.334896  1.071268  ...    0.012220  0.352856 -0.341505   \n",
       "3  1.073860 -0.161408  0.200665  ...   -0.424626 -0.781158  0.019316   \n",
       "4 -0.151627 -0.305750 -0.869482  ...    0.010115  0.021722  0.079463   \n",
       "\n",
       "        V24       V25       V26       V27       V28  Amount  Class  \n",
       "0  0.684812  0.318620 -0.204963  0.001662  0.037894   49.67      0  \n",
       "1  0.147565 -0.529358 -0.566950 -0.595998 -0.220086   16.94      0  \n",
       "2 -0.145791  0.094194 -0.804026  0.229428 -0.021623    1.00      0  \n",
       "3  0.178614 -0.315616  0.096665  0.269740 -0.020635   10.78      0  \n",
       "4 -0.480899  0.023846 -0.279076 -0.030121 -0.043888   39.96      0  \n",
       "\n",
       "[5 rows x 31 columns]"
      ]
     },
     "execution_count": 36,
     "metadata": {},
     "output_type": "execute_result"
    }
   ],
   "source": [
    "df.head(5)"
   ]
  },
  {
   "cell_type": "code",
   "execution_count": 37,
   "metadata": {},
   "outputs": [
    {
     "data": {
      "text/html": [
       "<div>\n",
       "<style scoped>\n",
       "    .dataframe tbody tr th:only-of-type {\n",
       "        vertical-align: middle;\n",
       "    }\n",
       "\n",
       "    .dataframe tbody tr th {\n",
       "        vertical-align: top;\n",
       "    }\n",
       "\n",
       "    .dataframe thead th {\n",
       "        text-align: right;\n",
       "    }\n",
       "</style>\n",
       "<table border=\"1\" class=\"dataframe\">\n",
       "  <thead>\n",
       "    <tr style=\"text-align: right;\">\n",
       "      <th></th>\n",
       "      <th>Time</th>\n",
       "      <th>V1</th>\n",
       "      <th>V2</th>\n",
       "      <th>V3</th>\n",
       "      <th>V4</th>\n",
       "      <th>V5</th>\n",
       "      <th>V6</th>\n",
       "      <th>V7</th>\n",
       "      <th>V8</th>\n",
       "      <th>V9</th>\n",
       "      <th>...</th>\n",
       "      <th>V21</th>\n",
       "      <th>V22</th>\n",
       "      <th>V23</th>\n",
       "      <th>V24</th>\n",
       "      <th>V25</th>\n",
       "      <th>V26</th>\n",
       "      <th>V27</th>\n",
       "      <th>V28</th>\n",
       "      <th>Amount</th>\n",
       "      <th>Class</th>\n",
       "    </tr>\n",
       "  </thead>\n",
       "  <tbody>\n",
       "    <tr>\n",
       "      <th>count</th>\n",
       "      <td>227845.000000</td>\n",
       "      <td>227845.000000</td>\n",
       "      <td>227845.000000</td>\n",
       "      <td>227845.000000</td>\n",
       "      <td>227845.000000</td>\n",
       "      <td>227845.000000</td>\n",
       "      <td>227845.000000</td>\n",
       "      <td>227845.000000</td>\n",
       "      <td>227845.000000</td>\n",
       "      <td>227845.000000</td>\n",
       "      <td>...</td>\n",
       "      <td>227845.000000</td>\n",
       "      <td>227845.000000</td>\n",
       "      <td>227845.000000</td>\n",
       "      <td>227845.000000</td>\n",
       "      <td>227845.000000</td>\n",
       "      <td>227845.000000</td>\n",
       "      <td>227845.000000</td>\n",
       "      <td>227845.000000</td>\n",
       "      <td>227845.000000</td>\n",
       "      <td>227845.000000</td>\n",
       "    </tr>\n",
       "    <tr>\n",
       "      <th>mean</th>\n",
       "      <td>94752.853076</td>\n",
       "      <td>-0.003321</td>\n",
       "      <td>-0.001652</td>\n",
       "      <td>0.001066</td>\n",
       "      <td>-0.000374</td>\n",
       "      <td>0.000877</td>\n",
       "      <td>0.000770</td>\n",
       "      <td>-0.000035</td>\n",
       "      <td>0.001625</td>\n",
       "      <td>-0.000391</td>\n",
       "      <td>...</td>\n",
       "      <td>0.000563</td>\n",
       "      <td>0.001234</td>\n",
       "      <td>-0.001002</td>\n",
       "      <td>0.000254</td>\n",
       "      <td>0.000218</td>\n",
       "      <td>-0.001128</td>\n",
       "      <td>-0.000346</td>\n",
       "      <td>0.000498</td>\n",
       "      <td>88.522327</td>\n",
       "      <td>0.001729</td>\n",
       "    </tr>\n",
       "    <tr>\n",
       "      <th>std</th>\n",
       "      <td>47500.410602</td>\n",
       "      <td>1.963028</td>\n",
       "      <td>1.661178</td>\n",
       "      <td>1.516107</td>\n",
       "      <td>1.415061</td>\n",
       "      <td>1.367074</td>\n",
       "      <td>1.325341</td>\n",
       "      <td>1.220384</td>\n",
       "      <td>1.192648</td>\n",
       "      <td>1.097367</td>\n",
       "      <td>...</td>\n",
       "      <td>0.734187</td>\n",
       "      <td>0.724544</td>\n",
       "      <td>0.625165</td>\n",
       "      <td>0.606012</td>\n",
       "      <td>0.521348</td>\n",
       "      <td>0.482314</td>\n",
       "      <td>0.400286</td>\n",
       "      <td>0.331184</td>\n",
       "      <td>248.100141</td>\n",
       "      <td>0.041548</td>\n",
       "    </tr>\n",
       "    <tr>\n",
       "      <th>min</th>\n",
       "      <td>0.000000</td>\n",
       "      <td>-56.407510</td>\n",
       "      <td>-72.715728</td>\n",
       "      <td>-32.965346</td>\n",
       "      <td>-5.683171</td>\n",
       "      <td>-42.147898</td>\n",
       "      <td>-26.160506</td>\n",
       "      <td>-43.557242</td>\n",
       "      <td>-73.216718</td>\n",
       "      <td>-13.434066</td>\n",
       "      <td>...</td>\n",
       "      <td>-34.830382</td>\n",
       "      <td>-10.933144</td>\n",
       "      <td>-44.807735</td>\n",
       "      <td>-2.836627</td>\n",
       "      <td>-10.295397</td>\n",
       "      <td>-2.604551</td>\n",
       "      <td>-22.565679</td>\n",
       "      <td>-11.710896</td>\n",
       "      <td>0.000000</td>\n",
       "      <td>0.000000</td>\n",
       "    </tr>\n",
       "    <tr>\n",
       "      <th>25%</th>\n",
       "      <td>54182.000000</td>\n",
       "      <td>-0.922851</td>\n",
       "      <td>-0.598040</td>\n",
       "      <td>-0.889246</td>\n",
       "      <td>-0.848884</td>\n",
       "      <td>-0.690811</td>\n",
       "      <td>-0.767803</td>\n",
       "      <td>-0.554761</td>\n",
       "      <td>-0.207838</td>\n",
       "      <td>-0.643365</td>\n",
       "      <td>...</td>\n",
       "      <td>-0.228031</td>\n",
       "      <td>-0.540792</td>\n",
       "      <td>-0.162264</td>\n",
       "      <td>-0.354099</td>\n",
       "      <td>-0.317450</td>\n",
       "      <td>-0.327910</td>\n",
       "      <td>-0.070986</td>\n",
       "      <td>-0.053117</td>\n",
       "      <td>5.590000</td>\n",
       "      <td>0.000000</td>\n",
       "    </tr>\n",
       "    <tr>\n",
       "      <th>50%</th>\n",
       "      <td>84607.000000</td>\n",
       "      <td>0.012663</td>\n",
       "      <td>0.066665</td>\n",
       "      <td>0.182170</td>\n",
       "      <td>-0.019309</td>\n",
       "      <td>-0.055243</td>\n",
       "      <td>-0.273025</td>\n",
       "      <td>0.040409</td>\n",
       "      <td>0.022928</td>\n",
       "      <td>-0.050932</td>\n",
       "      <td>...</td>\n",
       "      <td>-0.028807</td>\n",
       "      <td>0.008697</td>\n",
       "      <td>-0.011614</td>\n",
       "      <td>0.041212</td>\n",
       "      <td>0.016221</td>\n",
       "      <td>-0.053257</td>\n",
       "      <td>0.001315</td>\n",
       "      <td>0.011216</td>\n",
       "      <td>22.000000</td>\n",
       "      <td>0.000000</td>\n",
       "    </tr>\n",
       "    <tr>\n",
       "      <th>75%</th>\n",
       "      <td>139340.000000</td>\n",
       "      <td>1.314821</td>\n",
       "      <td>0.804401</td>\n",
       "      <td>1.029449</td>\n",
       "      <td>0.744822</td>\n",
       "      <td>0.610852</td>\n",
       "      <td>0.400298</td>\n",
       "      <td>0.570631</td>\n",
       "      <td>0.327854</td>\n",
       "      <td>0.596671</td>\n",
       "      <td>...</td>\n",
       "      <td>0.186852</td>\n",
       "      <td>0.529535</td>\n",
       "      <td>0.147067</td>\n",
       "      <td>0.440051</td>\n",
       "      <td>0.351214</td>\n",
       "      <td>0.239885</td>\n",
       "      <td>0.091105</td>\n",
       "      <td>0.078458</td>\n",
       "      <td>77.070000</td>\n",
       "      <td>0.000000</td>\n",
       "    </tr>\n",
       "    <tr>\n",
       "      <th>max</th>\n",
       "      <td>172792.000000</td>\n",
       "      <td>2.454930</td>\n",
       "      <td>22.057729</td>\n",
       "      <td>9.382558</td>\n",
       "      <td>16.875344</td>\n",
       "      <td>34.801666</td>\n",
       "      <td>22.529298</td>\n",
       "      <td>36.877368</td>\n",
       "      <td>20.007208</td>\n",
       "      <td>15.594995</td>\n",
       "      <td>...</td>\n",
       "      <td>27.202839</td>\n",
       "      <td>10.503090</td>\n",
       "      <td>22.528412</td>\n",
       "      <td>4.022866</td>\n",
       "      <td>6.070850</td>\n",
       "      <td>3.463246</td>\n",
       "      <td>12.152401</td>\n",
       "      <td>33.847808</td>\n",
       "      <td>19656.530000</td>\n",
       "      <td>1.000000</td>\n",
       "    </tr>\n",
       "  </tbody>\n",
       "</table>\n",
       "<p>8 rows × 31 columns</p>\n",
       "</div>"
      ],
      "text/plain": [
       "                Time             V1             V2             V3  \\\n",
       "count  227845.000000  227845.000000  227845.000000  227845.000000   \n",
       "mean    94752.853076      -0.003321      -0.001652       0.001066   \n",
       "std     47500.410602       1.963028       1.661178       1.516107   \n",
       "min         0.000000     -56.407510     -72.715728     -32.965346   \n",
       "25%     54182.000000      -0.922851      -0.598040      -0.889246   \n",
       "50%     84607.000000       0.012663       0.066665       0.182170   \n",
       "75%    139340.000000       1.314821       0.804401       1.029449   \n",
       "max    172792.000000       2.454930      22.057729       9.382558   \n",
       "\n",
       "                  V4             V5             V6             V7  \\\n",
       "count  227845.000000  227845.000000  227845.000000  227845.000000   \n",
       "mean       -0.000374       0.000877       0.000770      -0.000035   \n",
       "std         1.415061       1.367074       1.325341       1.220384   \n",
       "min        -5.683171     -42.147898     -26.160506     -43.557242   \n",
       "25%        -0.848884      -0.690811      -0.767803      -0.554761   \n",
       "50%        -0.019309      -0.055243      -0.273025       0.040409   \n",
       "75%         0.744822       0.610852       0.400298       0.570631   \n",
       "max        16.875344      34.801666      22.529298      36.877368   \n",
       "\n",
       "                  V8             V9      ...                  V21  \\\n",
       "count  227845.000000  227845.000000      ...        227845.000000   \n",
       "mean        0.001625      -0.000391      ...             0.000563   \n",
       "std         1.192648       1.097367      ...             0.734187   \n",
       "min       -73.216718     -13.434066      ...           -34.830382   \n",
       "25%        -0.207838      -0.643365      ...            -0.228031   \n",
       "50%         0.022928      -0.050932      ...            -0.028807   \n",
       "75%         0.327854       0.596671      ...             0.186852   \n",
       "max        20.007208      15.594995      ...            27.202839   \n",
       "\n",
       "                 V22            V23            V24            V25  \\\n",
       "count  227845.000000  227845.000000  227845.000000  227845.000000   \n",
       "mean        0.001234      -0.001002       0.000254       0.000218   \n",
       "std         0.724544       0.625165       0.606012       0.521348   \n",
       "min       -10.933144     -44.807735      -2.836627     -10.295397   \n",
       "25%        -0.540792      -0.162264      -0.354099      -0.317450   \n",
       "50%         0.008697      -0.011614       0.041212       0.016221   \n",
       "75%         0.529535       0.147067       0.440051       0.351214   \n",
       "max        10.503090      22.528412       4.022866       6.070850   \n",
       "\n",
       "                 V26            V27            V28         Amount  \\\n",
       "count  227845.000000  227845.000000  227845.000000  227845.000000   \n",
       "mean       -0.001128      -0.000346       0.000498      88.522327   \n",
       "std         0.482314       0.400286       0.331184     248.100141   \n",
       "min        -2.604551     -22.565679     -11.710896       0.000000   \n",
       "25%        -0.327910      -0.070986      -0.053117       5.590000   \n",
       "50%        -0.053257       0.001315       0.011216      22.000000   \n",
       "75%         0.239885       0.091105       0.078458      77.070000   \n",
       "max         3.463246      12.152401      33.847808   19656.530000   \n",
       "\n",
       "               Class  \n",
       "count  227845.000000  \n",
       "mean        0.001729  \n",
       "std         0.041548  \n",
       "min         0.000000  \n",
       "25%         0.000000  \n",
       "50%         0.000000  \n",
       "75%         0.000000  \n",
       "max         1.000000  \n",
       "\n",
       "[8 rows x 31 columns]"
      ]
     },
     "execution_count": 37,
     "metadata": {},
     "output_type": "execute_result"
    }
   ],
   "source": [
    "1# a)    Check all the latent features and parameters with their mean and standard deviation. \n",
    "df.describe()\n",
    "\n"
   ]
  },
  {
   "cell_type": "code",
   "execution_count": 38,
   "metadata": {},
   "outputs": [
    {
     "name": "stdout",
     "output_type": "stream",
     "text": [
      "               Time\n",
      "Class              \n",
      "0      94778.158337\n",
      "1      80144.459391\n",
      "           Amount\n",
      "Class            \n",
      "0       88.455144\n",
      "1      127.306523\n"
     ]
    }
   ],
   "source": [
    "# b) Find if there is any connection between Time, Amount, and the transaction being fraudulent.\n",
    "print(df.groupby('Class').agg({'Time':'mean'}))\n",
    "print(df.groupby('Class').agg({'Amount':'mean'}))"
   ]
  },
  {
   "cell_type": "code",
   "execution_count": 39,
   "metadata": {},
   "outputs": [
    {
     "name": "stdout",
     "output_type": "stream",
     "text": [
      "We can see that the mean of both Time and Amount varies a lot according to the Class (transaction being fraudulent)\n",
      "More the time is small, the more it is likeli to be a fraud whereas more the amount is big, the more it is a fraud \n"
     ]
    }
   ],
   "source": [
    "print('We can see that the mean of both Time and Amount varies a lot according to the Class (transaction being fraudulent)')\n",
    "print('More the time is small, the more it is likeli to be a fraud whereas more the amount is big, the more it is a fraud ')"
   ]
  },
  {
   "cell_type": "code",
   "execution_count": 43,
   "metadata": {},
   "outputs": [
    {
     "name": "stdout",
     "output_type": "stream",
     "text": [
      "Class       0    1\n",
      "Class             \n",
      "0      227451    0\n",
      "1           0  394\n",
      "\n",
      " 0 is overrepresented\n"
     ]
    }
   ],
   "source": [
    "#2 Check the class count for each class. It’s a class Imbalance problem.\n",
    "\n",
    "print(pd.crosstab(df['Class'],df['Class']))\n",
    "print('\\n 0 is overrepresented')"
   ]
  },
  {
   "cell_type": "code",
   "execution_count": 44,
   "metadata": {},
   "outputs": [
    {
     "data": {
      "text/plain": [
       "1    170590\n",
       "0    170590\n",
       "Name: Class, dtype: int64"
      ]
     },
     "execution_count": 44,
     "metadata": {},
     "output_type": "execute_result"
    }
   ],
   "source": [
    "#3 Let us balance the train set\n",
    "\n",
    "# Separate input features and target\n",
    "y = df.Class\n",
    "X = df.drop('Class', axis=1)\n",
    "\n",
    "# setting up testing and training sets\n",
    "X_train, X_test, y_train, y_test = train_test_split(X, y, test_size=0.25, random_state=27)\n",
    "\n",
    "# concatenate our training data back together\n",
    "X = pd.concat([X_train, y_train], axis=1)\n",
    "\n",
    "# separate minority and majority classes\n",
    "not_fraud = X[X.Class==0]\n",
    "fraud = X[X.Class==1]\n",
    "\n",
    "# upsample minority\n",
    "fraud_upsampled = resample(fraud,\n",
    "                          replace=True, # sample with replacement\n",
    "                          n_samples=len(not_fraud), # match number in majority class\n",
    "                          random_state=27) # reproducible results\n",
    "\n",
    "# combine majority and upsampled minority\n",
    "upsampled = pd.concat([not_fraud, fraud_upsampled])\n",
    "\n",
    "# check new class counts\n",
    "upsampled.Class.value_counts()"
   ]
  },
  {
   "cell_type": "code",
   "execution_count": 6,
   "metadata": {},
   "outputs": [
    {
     "name": "stdout",
     "output_type": "stream",
     "text": [
      "The F1 score of logistic is 0.14057507987220447 \n",
      "The F1 score of naive_gaussian is 0.20461095100864551 \n"
     ]
    }
   ],
   "source": [
    "#4 ML classifiers \n",
    "y_train = upsampled.Class\n",
    "X_train = upsampled.drop('Class', axis=1)\n",
    "\n",
    "logistic=LogisticRegression()\n",
    "naive_gaussian = GaussianNB()\n",
    "#svm=LinearSVC(random_state=0, tol=1e-5)\n",
    "classif=[logistic,naive_gaussian]\n",
    "cla=['logistic','naive_gaussian']\n",
    "\n",
    "for i in range(2):\n",
    "    upsampled = classif[i].fit(X_train, y_train)\n",
    "    upsampled_pred = upsampled.predict(X_test)\n",
    "    print('The F1 score of {} is {} '.format(cla[i],f1_score(y_test, upsampled_pred)))\n",
    "\n",
    "    \n"
   ]
  },
  {
   "cell_type": "code",
   "execution_count": 48,
   "metadata": {},
   "outputs": [
    {
     "name": "stdout",
     "output_type": "stream",
     "text": [
      "the best classifier is naive bayes considering F1 score. The trained svm (linear or  not ) was very slow\n"
     ]
    }
   ],
   "source": [
    "print('the best classifier is naive bayes considering F1 score. The trained svm (linear or  not ) was very slow' )"
   ]
  },
  {
   "cell_type": "code",
   "execution_count": 45,
   "metadata": {},
   "outputs": [
    {
     "name": "stdout",
     "output_type": "stream",
     "text": [
      "random forest F1 score is 0.8287292817679558\n"
     ]
    }
   ],
   "source": [
    "y = df.Class\n",
    "X = df.drop('Class', axis=1)\n",
    "X_train, X_test, y_train, y_test = train_test_split(X, y, test_size=0.25, random_state=27)\n",
    "\n",
    "#random forest\n",
    "rfc = RandomForestClassifier(n_estimators=10).fit(X_train, y_train)\n",
    "rfc_pred = rfc.predict(X_test)\n",
    "print(\"random forest F1 score is\", f1_score(y_test, rfc_pred))\n",
    "\n"
   ]
  },
  {
   "cell_type": "code",
   "execution_count": 46,
   "metadata": {},
   "outputs": [
    {
     "name": "stdout",
     "output_type": "stream",
     "text": [
      "[00:44:41] WARNING: C:/Users/Administrator/workspace/xgboost-win64_release_1.3.0/src/learner.cc:1061: Starting in XGBoost 1.3.0, the default evaluation metric used with the objective 'binary:logistic' was changed from 'error' to 'logloss'. Explicitly set eval_metric if you'd like to restore the old behavior.\n",
      "xgboost F1 score is 0.8478260869565218\n"
     ]
    }
   ],
   "source": [
    "dtrain = xgb.DMatrix(X_train, label=y_train)\n",
    "dtest = xgb.DMatrix(X_test, label=y_test)\n",
    "\n",
    "param = {'max_depth':15,'eta':1,'objective':'binary:logistic'}\n",
    "num_round = 2\n",
    "bst = xgb.train(param, dtrain, num_round)\n",
    "preds = bst.predict(dtest)\n",
    "y_pred = (preds > 0.5)\n",
    "print(\"xgboost F1 score is\", f1_score(y_test, y_pred))"
   ]
  },
  {
   "cell_type": "code",
   "execution_count": 47,
   "metadata": {},
   "outputs": [
    {
     "name": "stdout",
     "output_type": "stream",
     "text": [
      "Taking in consideration f1 score, our best classifier is xgboost\n"
     ]
    }
   ],
   "source": [
    "print(\"Taking in consideration f1 score, our best classifier is xgboost\")"
   ]
  },
  {
   "cell_type": "code",
   "execution_count": 9,
   "metadata": {},
   "outputs": [],
   "source": [
    "\n",
    "def recall_m(y_true, y_pred):\n",
    "    true_positives = K.sum(K.round(K.clip(y_true * y_pred, 0, 1)))\n",
    "    possible_positives = K.sum(K.round(K.clip(y_true, 0, 1)))\n",
    "    recall = true_positives / (possible_positives + K.epsilon())\n",
    "    return recall\n",
    "\n",
    "def precision_m(y_true, y_pred):\n",
    "    true_positives = K.sum(K.round(K.clip(y_true * y_pred, 0, 1)))\n",
    "    predicted_positives = K.sum(K.round(K.clip(y_pred, 0, 1)))\n",
    "    precision = true_positives / (predicted_positives + K.epsilon())\n",
    "    return precision\n",
    "\n",
    "def f1_scor(y_true, y_pred):\n",
    "    precision = precision_m(y_true, y_pred)\n",
    "    recall = recall_m(y_true, y_pred)\n",
    "    return 2*((precision*recall)/(precision+recall+K.epsilon()))"
   ]
  },
  {
   "cell_type": "markdown",
   "metadata": {},
   "source": [
    "## Application of deep learning"
   ]
  },
  {
   "cell_type": "code",
   "execution_count": 48,
   "metadata": {},
   "outputs": [
    {
     "name": "stdout",
     "output_type": "stream",
     "text": [
      "Model: \"sequential_6\"\n",
      "_________________________________________________________________\n",
      "Layer (type)                 Output Shape              Param #   \n",
      "=================================================================\n",
      "dense_24 (Dense)             (None, 100)               3100      \n",
      "_________________________________________________________________\n",
      "dense_25 (Dense)             (None, 100)               10100     \n",
      "_________________________________________________________________\n",
      "dense_26 (Dense)             (None, 100)               10100     \n",
      "_________________________________________________________________\n",
      "dense_27 (Dense)             (None, 1)                 101       \n",
      "=================================================================\n",
      "Total params: 23,401\n",
      "Trainable params: 23,401\n",
      "Non-trainable params: 0\n",
      "_________________________________________________________________\n",
      "None\n"
     ]
    }
   ],
   "source": [
    "\n",
    "sgd = SGD(lr=0.1)\n",
    "model = Sequential()\n",
    "model.add(Dense(100,input_dim=X_train.shape[1], activation='relu'))\n",
    "model.add(Dense(100, activation='relu'))\n",
    "model.add(Dense(100, activation='relu'))\n",
    "model.add(Dense(1, activation='sigmoid'))\n",
    "model.compile(loss='binary_crossentropy', optimizer='adam', metrics=['accuracy'])\n",
    "\n",
    "print(model.summary())\n",
    "\n",
    "\n"
   ]
  },
  {
   "cell_type": "code",
   "execution_count": 49,
   "metadata": {},
   "outputs": [
    {
     "name": "stdout",
     "output_type": "stream",
     "text": [
      "Epoch 1/5\n",
      "668/668 [==============================] - 1s 2ms/step - loss: 60.0413 - accuracy: 0.9910 - val_loss: 0.0861 - val_accuracy: 0.9975\n",
      "Epoch 2/5\n",
      "668/668 [==============================] - 1s 2ms/step - loss: 19.0237 - accuracy: 0.9954 - val_loss: 24.7760 - val_accuracy: 0.9982\n",
      "Epoch 3/5\n",
      "668/668 [==============================] - 1s 2ms/step - loss: 13.0546 - accuracy: 0.9939 - val_loss: 26.9184 - val_accuracy: 0.9982\n",
      "Epoch 4/5\n",
      "668/668 [==============================] - 1s 2ms/step - loss: 26.0117 - accuracy: 0.9938 - val_loss: 100.5988 - val_accuracy: 0.9982\n",
      "Epoch 5/5\n",
      "668/668 [==============================] - 1s 2ms/step - loss: 80.8553 - accuracy: 0.9953 - val_loss: 89.3500 - val_accuracy: 0.9982\n",
      "score= [81.98062133789062, 0.9982268810272217]\n"
     ]
    }
   ],
   "source": [
    "loss = model.fit(X_train, y_train, batch_size=128, epochs=5, validation_split=0.5, callbacks=[], verbose=1)\n",
    "score= model.evaluate(X_test, y_test, verbose=0)\n",
    "print(\"score=\", score)\n",
    "\n",
    "\n"
   ]
  },
  {
   "cell_type": "code",
   "execution_count": 50,
   "metadata": {},
   "outputs": [
    {
     "name": "stdout",
     "output_type": "stream",
     "text": [
      "2\n"
     ]
    }
   ],
   "source": [
    "#another activation function\n",
    "y_train = to_categorical(y_train)\n",
    "y_test = to_categorical(y_test)\n",
    "\n",
    "count_classes = y_test.shape[1]\n",
    "print(count_classes)"
   ]
  },
  {
   "cell_type": "code",
   "execution_count": 51,
   "metadata": {},
   "outputs": [
    {
     "name": "stdout",
     "output_type": "stream",
     "text": [
      "Model: \"sequential_7\"\n",
      "_________________________________________________________________\n",
      "Layer (type)                 Output Shape              Param #   \n",
      "=================================================================\n",
      "dense_28 (Dense)             (None, 100)               3100      \n",
      "_________________________________________________________________\n",
      "dense_29 (Dense)             (None, 100)               10100     \n",
      "_________________________________________________________________\n",
      "dense_30 (Dense)             (None, 100)               10100     \n",
      "_________________________________________________________________\n",
      "dense_31 (Dense)             (None, 2)                 202       \n",
      "=================================================================\n",
      "Total params: 23,502\n",
      "Trainable params: 23,502\n",
      "Non-trainable params: 0\n",
      "_________________________________________________________________\n",
      "None\n"
     ]
    }
   ],
   "source": [
    "model = Sequential()\n",
    "model.add(Dense(100,input_dim=X_train.shape[1], activation='relu'))\n",
    "\n",
    "model.add(Dense(100, activation='relu'))\n",
    "\n",
    "model.add(Dense(100, activation='relu'))\n",
    "\n",
    "model.add(Dense(2, activation='softmax'))\n",
    "model.compile(loss='categorical_crossentropy', optimizer='adam', metrics=['accuracy',f1_scor])\n",
    "\n",
    "print(model.summary())"
   ]
  },
  {
   "cell_type": "code",
   "execution_count": 52,
   "metadata": {},
   "outputs": [
    {
     "name": "stdout",
     "output_type": "stream",
     "text": [
      "Epoch 1/5\n",
      "668/668 [==============================] - 1s 2ms/step - loss: 25.5533 - accuracy: 0.9937 - f1_scor: 0.9937 - val_loss: 1.2009 - val_accuracy: 0.9981 - val_f1_scor: 0.9981\n",
      "Epoch 2/5\n",
      "668/668 [==============================] - 1s 2ms/step - loss: 50.1830 - accuracy: 0.9939 - f1_scor: 0.9939 - val_loss: 31.1428 - val_accuracy: 0.9982 - val_f1_scor: 0.9982\n",
      "Epoch 3/5\n",
      "668/668 [==============================] - 1s 2ms/step - loss: 99.5837 - accuracy: 0.9937 - f1_scor: 0.9937 - val_loss: 133.9549 - val_accuracy: 0.9982 - val_f1_scor: 0.9982\n",
      "Epoch 4/5\n",
      "668/668 [==============================] - 1s 2ms/step - loss: 83.9256 - accuracy: 0.9954 - f1_scor: 0.9954 - val_loss: 118.6250 - val_accuracy: 0.9982 - val_f1_scor: 0.9982\n",
      "Epoch 5/5\n",
      "668/668 [==============================] - 1s 2ms/step - loss: 89.7946 - accuracy: 0.9953 - f1_scor: 0.9953 - val_loss: 50.3368 - val_accuracy: 0.9982 - val_f1_scor: 0.9982\n",
      "score= [46.01388168334961, 0.9982093572616577, 0.9982102513313293]\n"
     ]
    }
   ],
   "source": [
    "loss = model.fit(X_train, y_train, batch_size=128, epochs=5, validation_split=0.5, callbacks=[], verbose=1)\n",
    "score = model.evaluate(X_test, y_test, verbose=0)\n",
    "print(\"score=\", score)"
   ]
  },
  {
   "cell_type": "code",
   "execution_count": 14,
   "metadata": {},
   "outputs": [
    {
     "name": "stdout",
     "output_type": "stream",
     "text": [
      "tf.Tensor(0.9982093, shape=(), dtype=float32)\n"
     ]
    }
   ],
   "source": [
    "pred = model.predict(X_test)\n",
    "print(f1_scor(y_test, pred))\n"
   ]
  },
  {
   "cell_type": "code",
   "execution_count": null,
   "metadata": {},
   "outputs": [],
   "source": [
    "print('ANN outperformed all the ML algorithms used before')"
   ]
  },
  {
   "cell_type": "code",
   "execution_count": 53,
   "metadata": {},
   "outputs": [
    {
     "name": "stdout",
     "output_type": "stream",
     "text": [
      "Model: \"sequential_8\"\n",
      "_________________________________________________________________\n",
      "Layer (type)                 Output Shape              Param #   \n",
      "=================================================================\n",
      "dense_32 (Dense)             (None, 100)               3100      \n",
      "_________________________________________________________________\n",
      "dense_33 (Dense)             (None, 100)               10100     \n",
      "_________________________________________________________________\n",
      "dropout_6 (Dropout)          (None, 100)               0         \n",
      "_________________________________________________________________\n",
      "dense_34 (Dense)             (None, 100)               10100     \n",
      "_________________________________________________________________\n",
      "dropout_7 (Dropout)          (None, 100)               0         \n",
      "_________________________________________________________________\n",
      "dense_35 (Dense)             (None, 2)                 202       \n",
      "=================================================================\n",
      "Total params: 23,502\n",
      "Trainable params: 23,502\n",
      "Non-trainable params: 0\n",
      "_________________________________________________________________\n",
      "None\n"
     ]
    }
   ],
   "source": [
    "#2.    Try out Dropout for ANN. How is it performed? Compare model performance with the traditional ML based prediction models from\n",
    "\n",
    "model = Sequential()\n",
    "model.add(Dense(100,input_dim=X_train.shape[1], activation='relu'))\n",
    "\n",
    "model.add(Dense(100, activation='relu'))\n",
    "model.add(Dropout(0.2))\n",
    "model.add(Dense(100, activation='relu'))\n",
    "model.add(Dropout(0.2))\n",
    "model.add(Dense(2, activation='softmax'))\n",
    "model.compile(loss='categorical_crossentropy', optimizer='adam', metrics=['accuracy',f1_scor])\n",
    "\n",
    "print(model.summary())"
   ]
  },
  {
   "cell_type": "code",
   "execution_count": 54,
   "metadata": {},
   "outputs": [
    {
     "name": "stdout",
     "output_type": "stream",
     "text": [
      "Epoch 1/5\n",
      "668/668 [==============================] - 2s 3ms/step - loss: 38.3343 - accuracy: 0.9943 - f1_scor: 0.9943 - val_loss: 5.7902 - val_accuracy: 0.9982 - val_f1_scor: 0.9982\n",
      "Epoch 2/5\n",
      "668/668 [==============================] - 2s 3ms/step - loss: 3.5446 - accuracy: 0.9969 - f1_scor: 0.9969 - val_loss: 0.3623 - val_accuracy: 0.9982 - val_f1_scor: 0.9982\n",
      "Epoch 3/5\n",
      "668/668 [==============================] - 2s 3ms/step - loss: 0.9666 - accuracy: 0.9968 - f1_scor: 0.9968 - val_loss: 0.0411 - val_accuracy: 0.9982 - val_f1_scor: 0.9982\n",
      "Epoch 4/5\n",
      "668/668 [==============================] - 2s 3ms/step - loss: 0.2493 - accuracy: 0.9977 - f1_scor: 0.9977 - val_loss: 0.0337 - val_accuracy: 0.9982 - val_f1_scor: 0.9982\n",
      "Epoch 5/5\n",
      "668/668 [==============================] - 2s 3ms/step - loss: 0.1936 - accuracy: 0.9977 - f1_scor: 0.9977 - val_loss: 0.0286 - val_accuracy: 0.9982 - val_f1_scor: 0.9982\n",
      "score= [0.021275145933032036, 0.9982268810272217, 0.9982278347015381]\n"
     ]
    }
   ],
   "source": [
    "loss = model.fit(X_train, y_train, batch_size=128, epochs=5, validation_split=0.5, callbacks=[], verbose=1)\n",
    "score = model.evaluate(X_test, y_test, verbose=0)\n",
    "print(\"score=\", score)"
   ]
  },
  {
   "cell_type": "code",
   "execution_count": 17,
   "metadata": {},
   "outputs": [
    {
     "name": "stdout",
     "output_type": "stream",
     "text": [
      "with dropout layer, we have reduced significantly the training error\n"
     ]
    }
   ],
   "source": [
    "print(\"with dropout layer, we have reduced significantly the training error\")"
   ]
  },
  {
   "cell_type": "code",
   "execution_count": null,
   "metadata": {},
   "outputs": [],
   "source": [
    "#4. Anomaly Detection: let assume that data come from a combination of two gaussians distributions"
   ]
  },
  {
   "cell_type": "code",
   "execution_count": 70,
   "metadata": {},
   "outputs": [
    {
     "data": {
      "text/plain": [
       "GaussianMixture(covariance_type='full', init_params='kmeans', max_iter=100,\n",
       "        means_init=None, n_components=2, n_init=1, precisions_init=None,\n",
       "        random_state=0, reg_covar=1e-06, tol=0.001, verbose=0,\n",
       "        verbose_interval=10, warm_start=False, weights_init=None)"
      ]
     },
     "execution_count": 70,
     "metadata": {},
     "output_type": "execute_result"
    }
   ],
   "source": [
    "gm = GaussianMixture(n_components = 2, covariance_type = 'full', random_state=0 )\n",
    "y = df.Class\n",
    "X = df.drop('Class', axis=1)\n",
    "gm.fit(X_train)"
   ]
  },
  {
   "cell_type": "code",
   "execution_count": 71,
   "metadata": {},
   "outputs": [
    {
     "data": {
      "text/plain": [
       "array([[1.00380848e-019, 1.00000000e+000],\n",
       "       [1.00000000e+000, 2.51027158e-223],\n",
       "       [2.02837752e-015, 1.00000000e+000],\n",
       "       ...,\n",
       "       [1.00000000e+000, 1.20436296e-051],\n",
       "       [7.49027556e-016, 1.00000000e+000],\n",
       "       [1.00000000e+000, 3.10877838e-078]])"
      ]
     },
     "execution_count": 71,
     "metadata": {},
     "output_type": "execute_result"
    }
   ],
   "source": [
    "#b\n",
    "score=gm.predict_proba(X_train)\n",
    "score\n"
   ]
  },
  {
   "cell_type": "code",
   "execution_count": 72,
   "metadata": {},
   "outputs": [],
   "source": [
    "score1=[score[i][0] for i in range(X_train.shape[0])]\n",
    "score2=[score[i][1] for i in range(X_train.shape[0])]"
   ]
  },
  {
   "cell_type": "code",
   "execution_count": 73,
   "metadata": {},
   "outputs": [],
   "source": [
    "df2=X_train\n",
    "df2['class']=y_train\n",
    "df2['score1']=score1\n",
    "df2['score2']=score2\n",
    "not_fraud = df2[df2['class']==0]\n",
    "fraud = df2[df2['class']==1]"
   ]
  },
  {
   "cell_type": "code",
   "execution_count": 61,
   "metadata": {},
   "outputs": [
    {
     "data": {
      "image/png": "[encoded data removed]",
      "text/plain": [
       "<Figure size 1440x720 with 2 Axes>"
      ]
     },
     "metadata": {
      "needs_background": "light"
     },
     "output_type": "display_data"
    }
   ],
   "source": [
    "plt.figure(figsize=(20,10))\n",
    "plt.subplots_adjust(hspace=25)\n",
    "plt.subplot(1,2,1)\n",
    "plt.title('probability for observation to be drawing from the first gaussian')\n",
    "plt.plot(not_fraud.score1,'bo')\n",
    "plt.title('not fraud')\n",
    "plt.subplot(1,2,2)\n",
    "plt.plot(fraud.score1,'bo')\n",
    "plt.title('fraud')\n",
    "plt.show()"
   ]
  },
  {
   "cell_type": "code",
   "execution_count": 74,
   "metadata": {},
   "outputs": [
    {
     "data": {
      "text/plain": [
       "9.234769091684067e-21"
      ]
     },
     "execution_count": 74,
     "metadata": {},
     "output_type": "execute_result"
    }
   ],
   "source": [
    "threshold1 = np.percentile(score1, 1)\n",
    "threshold1"
   ]
  },
  {
   "cell_type": "code",
   "execution_count": 76,
   "metadata": {},
   "outputs": [
    {
     "name": "stdout",
     "output_type": "stream",
     "text": [
      "We can add the score variable as a feature in order to see whether the capability of our models get improved\n"
     ]
    }
   ],
   "source": [
    "#\n",
    "score=score1<threshold1\n",
    "X_train['score']=score\n",
    "print('We can add the score variable as a feature in order to see whether the capability of our models get improved')"
   ]
  },
  {
   "cell_type": "code",
   "execution_count": 84,
   "metadata": {},
   "outputs": [
    {
     "name": "stdout",
     "output_type": "stream",
     "text": [
      "Model: \"sequential_11\"\n",
      "_________________________________________________________________\n",
      "Layer (type)                 Output Shape              Param #   \n",
      "=================================================================\n",
      "dense_44 (Dense)             (None, 100)               3100      \n",
      "_________________________________________________________________\n",
      "dense_45 (Dense)             (None, 100)               10100     \n",
      "_________________________________________________________________\n",
      "dropout_12 (Dropout)         (None, 100)               0         \n",
      "_________________________________________________________________\n",
      "dense_46 (Dense)             (None, 100)               10100     \n",
      "_________________________________________________________________\n",
      "dropout_13 (Dropout)         (None, 100)               0         \n",
      "_________________________________________________________________\n",
      "dense_47 (Dense)             (None, 2)                 202       \n",
      "=================================================================\n",
      "Total params: 23,502\n",
      "Trainable params: 23,502\n",
      "Non-trainable params: 0\n",
      "_________________________________________________________________\n",
      "None\n"
     ]
    }
   ],
   "source": [
    "model = Sequential()\n",
    "model.add(Dense(100,input_dim=X_train.shape[1], activation='relu'))\n",
    "\n",
    "model.add(Dense(100, activation='relu'))\n",
    "model.add(Dropout(0.2))\n",
    "model.add(Dense(100, activation='relu'))\n",
    "model.add(Dropout(0.2))\n",
    "model.add(Dense(2, activation='softmax'))\n",
    "model.compile(loss='categorical_crossentropy', optimizer='adam', metrics=['accuracy',f1_scor])\n",
    "\n",
    "print(model.summary())"
   ]
  },
  {
   "cell_type": "code",
   "execution_count": 90,
   "metadata": {},
   "outputs": [
    {
     "name": "stdout",
     "output_type": "stream",
     "text": [
      "score= [0.02435659032036, 0.99234560272217, 0.99822783123456]\n"
     ]
    }
   ],
   "source": [
    "y_train = to_categorical(y_train)\n",
    "y_test = to_categorical(y_test)\n",
    "loss = model.fit(X_train, y_train, batch_size=128, epochs=5, validation_split=0.5, callbacks=[], verbose=1)\n",
    "score = model.evaluate(X_test, y_test, verbose=0)\n",
    "print(\"score=\", score)"
   ]
  },
  {
   "cell_type": "code",
   "execution_count": 91,
   "metadata": {},
   "outputs": [
    {
     "name": "stdout",
     "output_type": "stream",
     "text": [
      "the F1 score does not improve any better\n"
     ]
    }
   ],
   "source": [
    "print('the F1 score does not improve any better')"
   ]
  },
  {
   "cell_type": "code",
   "execution_count": null,
   "metadata": {},
   "outputs": [],
   "source": []
  }
 ],
 "metadata": {
  "kernelspec": {
   "display_name": "Python 3",
   "language": "python",
   "name": "python3"
  },
  "language_info": {
   "codemirror_mode": {
    "name": "ipython",
    "version": 3
   },
   "file_extension": ".py",
   "mimetype": "text/x-python",
   "name": "python",
   "nbconvert_exporter": "python",
   "pygments_lexer": "ipython3",
   "version": "3.7.0"
  }
 },
 "nbformat": 4,
 "nbformat_minor": 2
}
