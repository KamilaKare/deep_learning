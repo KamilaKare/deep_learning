{
 "cells": [
  {
   "cell_type": "code",
   "execution_count": 2,
   "id": "5830eb5c",
   "metadata": {},
   "outputs": [],
   "source": [
    "import torch\n",
    "from torch import nn\n",
    "from torch.utils.data import DataLoader\n",
    "from torchvision import datasets\n",
    "from torchvision.transforms import ToTensor, Lambda, Compose\n",
    "import matplotlib.pyplot as plt"
   ]
  },
  {
   "cell_type": "code",
   "execution_count": 26,
   "id": "f0c1f795",
   "metadata": {},
   "outputs": [],
   "source": [
    "class Network(nn.Module):\n",
    "    def __init__(self):\n",
    "        super(Network, self).__init__()\n",
    "        self.flatten = nn.Flatten()\n",
    "        self.linear_relu_stack = nn.Sequential(\n",
    "            nn.Linear(28*28, 512),\n",
    "            nn.ReLU(),\n",
    "            nn.Linear(512,512),\n",
    "            nn.ReLU(),\n",
    "            nn.Linear(512,10)\n",
    "        )\n",
    "        \n",
    "        def forward(self, x):\n",
    "            x = self.flatten(x)\n",
    "            logits = self.linear_relu_stack(x)\n",
    "            return logits\n",
    "\n",
    "model = Network()"
   ]
  },
  {
   "cell_type": "code",
   "execution_count": 41,
   "id": "56b8d564",
   "metadata": {},
   "outputs": [],
   "source": [
    "rnn = nn.LSTM(5, 5, 1)\n",
    "input = torch.randn(2, 2, 5)\n",
    "h0 = torch.randn(1, 2, 5)\n",
    "c0 = torch.randn(1, 2, 5)"
   ]
  },
  {
   "cell_type": "code",
   "execution_count": 42,
   "id": "18887587",
   "metadata": {},
   "outputs": [],
   "source": [
    "output, (hn, cn) = rnn(input, (h0,c0))"
   ]
  },
  {
   "cell_type": "code",
   "execution_count": 43,
   "id": "e40a79c4",
   "metadata": {},
   "outputs": [
    {
     "data": {
      "text/plain": [
       "tensor([[[-0.0934,  0.0777,  0.1803,  0.0044,  0.2903],\n",
       "         [ 0.1954,  0.4706, -0.1326, -0.1034, -0.1427]],\n",
       "\n",
       "        [[ 0.1579,  0.0613, -0.0034, -0.0400,  0.1895],\n",
       "         [ 0.2817,  0.3172,  0.0439, -0.1374, -0.2238]]],\n",
       "       grad_fn=<StackBackward0>)"
      ]
     },
     "execution_count": 43,
     "metadata": {},
     "output_type": "execute_result"
    }
   ],
   "source": [
    "output"
   ]
  },
  {
   "cell_type": "code",
   "execution_count": 44,
   "id": "7b94b936",
   "metadata": {},
   "outputs": [
    {
     "data": {
      "text/plain": [
       "tensor([[[ 0.1579,  0.0613, -0.0034, -0.0400,  0.1895],\n",
       "         [ 0.2817,  0.3172,  0.0439, -0.1374, -0.2238]]],\n",
       "       grad_fn=<StackBackward0>)"
      ]
     },
     "execution_count": 44,
     "metadata": {},
     "output_type": "execute_result"
    }
   ],
   "source": [
    "hn"
   ]
  },
  {
   "cell_type": "code",
   "execution_count": 45,
   "id": "e4c7c8fa",
   "metadata": {},
   "outputs": [
    {
     "data": {
      "text/plain": [
       "tensor([[[ 0.2061,  0.1349, -0.0059, -0.0759,  0.4401],\n",
       "         [ 0.6616,  0.8498,  0.0761, -0.2348, -0.7976]]],\n",
       "       grad_fn=<StackBackward0>)"
      ]
     },
     "execution_count": 45,
     "metadata": {},
     "output_type": "execute_result"
    }
   ],
   "source": [
    "cn"
   ]
  },
  {
   "cell_type": "code",
   "execution_count": 14,
   "id": "e68366aa",
   "metadata": {},
   "outputs": [
    {
     "name": "stdout",
     "output_type": "stream",
     "text": [
      "torch.Size([128, 30])\n"
     ]
    }
   ],
   "source": [
    "m = nn.Linear(20, 30)\n",
    "input = torch.randn(128, 20)\n",
    "output = m(input)\n",
    "print(output.size())"
   ]
  },
  {
   "cell_type": "code",
   "execution_count": 30,
   "id": "04994b3b",
   "metadata": {},
   "outputs": [],
   "source": [
    "?nn.LSTM"
   ]
  }
 ],
 "metadata": {
  "kernelspec": {
   "display_name": "Python 3 (ipykernel)",
   "language": "python",
   "name": "python3"
  },
  "language_info": {
   "codemirror_mode": {
    "name": "ipython",
    "version": 3
   },
   "file_extension": ".py",
   "mimetype": "text/x-python",
   "name": "python",
   "nbconvert_exporter": "python",
   "pygments_lexer": "ipython3",
   "version": "3.9.7"
  }
 },
 "nbformat": 4,
 "nbformat_minor": 5
}
